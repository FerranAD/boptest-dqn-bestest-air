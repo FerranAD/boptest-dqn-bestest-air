{
 "cells": [
  {
   "cell_type": "code",
   "execution_count": 24,
   "metadata": {},
   "outputs": [
    {
     "name": "stdout",
     "output_type": "stream",
     "text": [
      "Folder 'boptestGymService' already exists. Skipping clone.\n"
     ]
    },
    {
     "data": {
      "text/plain": [
       "True"
      ]
     },
     "execution_count": 24,
     "metadata": {},
     "output_type": "execute_result"
    }
   ],
   "source": [
    "import os\n",
    "\n",
    "if not os.path.exists(\"boptestGymService\"):\n",
    "    !git clone -b boptest-gym-service https://github.com/ibpsa/project1-boptest-gym.git boptestGymService\n",
    "else:\n",
    "    print(\"Folder 'boptestGymService' already exists. Skipping clone.\")\n",
    "\n",
    "import sys\n",
    "sys.path.insert(0,'boptestGymService')\n",
    "from boptestGymEnv import BoptestGymEnv\n",
    "\n",
    "import torch\n",
    "\n",
    "torch.cuda.is_available()"
   ]
  },
  {
   "cell_type": "code",
   "execution_count": 36,
   "metadata": {},
   "outputs": [
    {
     "name": "stderr",
     "output_type": "stream",
     "text": [
      "/home/ferran/projects/carles-mateu/a2/.venv/lib/python3.10/site-packages/gymnasium/spaces/box.py:130: UserWarning: \u001b[33mWARN: Box bound precision lowered by casting to float32\u001b[0m\n",
      "  gym.logger.warn(f\"Box bound precision lowered by casting to {self.dtype}\")\n"
     ]
    }
   ],
   "source": [
    "env = BoptestGymEnv(url                  = 'http://localhost',\n",
    "                    testcase             = 'bestest_hydronic_heat_pump',\n",
    "                    actions              = ['oveHeaPumY_u'],\n",
    "                    observations         = {'time':(0,604800),\n",
    "                                            'reaTZon_y':(280.,310.),\n",
    "                                            'TDryBul':(265,303),\n",
    "                                            'HDirNor':(0,862),\n",
    "                                            'InternalGainsRad[1]':(0,219),\n",
    "                                            'PriceElectricPowerHighlyDynamic':(-0.4,0.4),\n",
    "                                            'LowerSetp[1]':(280.,310.),\n",
    "                                            'UpperSetp[1]':(280.,310.)},\n",
    "                    predictive_period    = 24*3600,\n",
    "                    regressive_period    = 6*3600,\n",
    "                    random_start_time    = True,\n",
    "                    max_episode_length   = 24*3600,\n",
    "                    warmup_period        = 24*3600,\n",
    "                    step_period          = 3600)"
   ]
  },
  {
   "cell_type": "code",
   "execution_count": 37,
   "metadata": {},
   "outputs": [],
   "source": [
    "from boptestGymEnv import BoptestGymEnv, NormalizedObservationWrapper, DiscretizedActionWrapper\n",
    "from stable_baselines3 import DQN\n",
    "\n",
    "env = NormalizedObservationWrapper(env)\n",
    "env = DiscretizedActionWrapper(env,n_bins_act=10)"
   ]
  },
  {
   "cell_type": "code",
   "execution_count": 43,
   "metadata": {},
   "outputs": [
    {
     "name": "stdout",
     "output_type": "stream",
     "text": [
      "Using cpu device\n",
      "Wrapping the env with a `Monitor` wrapper\n",
      "Wrapping the env in a DummyVecEnv.\n",
      "Using cuda device\n",
      "Wrapping the env with a `Monitor` wrapper\n",
      "Wrapping the env in a DummyVecEnv.\n"
     ]
    }
   ],
   "source": [
    "model = DQN('MlpPolicy', env, verbose=1, gamma=0.99,\n",
    "            learning_rate=5e-4, batch_size=1024, seed=123456,\n",
    "            buffer_size=365*24, learning_starts=24, train_freq=1, device='cpu')"
   ]
  },
  {
   "cell_type": "code",
   "execution_count": 44,
   "metadata": {},
   "outputs": [
    {
     "name": "stdout",
     "output_type": "stream",
     "text": [
      "---------------------------------\n",
      "| rollout/           |          |\n",
      "|    ep_len_mean     | 24       |\n",
      "|    ep_rew_mean     | -10      |\n",
      "| time/              |          |\n",
      "|    fps             | 4        |\n",
      "|    iterations      | 1        |\n",
      "|    time_elapsed    | 5        |\n",
      "|    total_timesteps | 24       |\n",
      "---------------------------------\n",
      "------------------------------------------\n",
      "| rollout/                |              |\n",
      "|    ep_len_mean          | 24           |\n",
      "|    ep_rew_mean          | -5.08        |\n",
      "| time/                   |              |\n",
      "|    fps                  | 4            |\n",
      "|    iterations           | 2            |\n",
      "|    time_elapsed         | 9            |\n",
      "|    total_timesteps      | 48           |\n",
      "| train/                  |              |\n",
      "|    approx_kl            | 0.0066914237 |\n",
      "|    clip_fraction        | 0.00417      |\n",
      "|    clip_range           | 0.2          |\n",
      "|    entropy_loss         | -2.4         |\n",
      "|    explained_variance   | 0.0111       |\n",
      "|    learning_rate        | 0.0005       |\n",
      "|    loss                 | 5.12         |\n",
      "|    n_updates            | 10           |\n",
      "|    policy_gradient_loss | -0.0413      |\n",
      "|    value_loss           | 17.4         |\n",
      "------------------------------------------\n",
      "-----------------------------------------\n",
      "| rollout/                |             |\n",
      "|    ep_len_mean          | 24          |\n",
      "|    ep_rew_mean          | -5.01       |\n",
      "| time/                   |             |\n",
      "|    fps                  | 5           |\n",
      "|    iterations           | 3           |\n",
      "|    time_elapsed         | 14          |\n",
      "|    total_timesteps      | 72          |\n",
      "| train/                  |             |\n",
      "|    approx_kl            | 0.005549108 |\n",
      "|    clip_fraction        | 0           |\n",
      "|    clip_range           | 0.2         |\n",
      "|    entropy_loss         | -2.39       |\n",
      "|    explained_variance   | -42.8       |\n",
      "|    learning_rate        | 0.0005      |\n",
      "|    loss                 | -0.0642     |\n",
      "|    n_updates            | 20          |\n",
      "|    policy_gradient_loss | -0.0378     |\n",
      "|    value_loss           | 0.228       |\n",
      "-----------------------------------------\n",
      "------------------------------------------\n",
      "| rollout/                |              |\n",
      "|    ep_len_mean          | 24           |\n",
      "|    ep_rew_mean          | -3.78        |\n",
      "| time/                   |              |\n",
      "|    fps                  | 5            |\n",
      "|    iterations           | 4            |\n",
      "|    time_elapsed         | 18           |\n",
      "|    total_timesteps      | 96           |\n",
      "| train/                  |              |\n",
      "|    approx_kl            | 0.0037629555 |\n",
      "|    clip_fraction        | 0            |\n",
      "|    clip_range           | 0.2          |\n",
      "|    entropy_loss         | -2.38        |\n",
      "|    explained_variance   | -0.0263      |\n",
      "|    learning_rate        | 0.0005       |\n",
      "|    loss                 | 1.33         |\n",
      "|    n_updates            | 30           |\n",
      "|    policy_gradient_loss | -0.0174      |\n",
      "|    value_loss           | 3.8          |\n",
      "------------------------------------------\n",
      "-----------------------------------------\n",
      "| rollout/                |             |\n",
      "|    ep_len_mean          | 24          |\n",
      "|    ep_rew_mean          | -3.04       |\n",
      "| time/                   |             |\n",
      "|    fps                  | 5           |\n",
      "|    iterations           | 5           |\n",
      "|    time_elapsed         | 22          |\n",
      "|    total_timesteps      | 120         |\n",
      "| train/                  |             |\n",
      "|    approx_kl            | 0.008374317 |\n",
      "|    clip_fraction        | 0.00833     |\n",
      "|    clip_range           | 0.2         |\n",
      "|    entropy_loss         | -2.37       |\n",
      "|    explained_variance   | -1.1        |\n",
      "|    learning_rate        | 0.0005      |\n",
      "|    loss                 | -0.0823     |\n",
      "|    n_updates            | 40          |\n",
      "|    policy_gradient_loss | -0.0384     |\n",
      "|    value_loss           | 0.0821      |\n",
      "-----------------------------------------\n"
     ]
    },
    {
     "data": {
      "text/plain": [
       "<stable_baselines3.ppo.ppo.PPO at 0x7ffe82ae33a0>"
      ]
     },
     "execution_count": 44,
     "metadata": {},
     "output_type": "execute_result"
    }
   ],
   "source": [
    "model.learn(total_timesteps=100)"
   ]
  },
  {
   "cell_type": "code",
   "execution_count": 18,
   "metadata": {},
   "outputs": [
    {
     "data": {
      "text/plain": [
       "{'tdis_tot': 0.15685426466607122,\n",
       " 'idis_tot': 0,\n",
       " 'ener_tot': 0.2784581349563481,\n",
       " 'cost_tot': 0.07058913721143426,\n",
       " 'emis_tot': 0.04650250853771014,\n",
       " 'pele_tot': 0.019584782613200152,\n",
       " 'pgas_tot': None,\n",
       " 'pdih_tot': None,\n",
       " 'time_rat': 0.00023476835754182603}"
      ]
     },
     "execution_count": 18,
     "metadata": {},
     "output_type": "execute_result"
    }
   ],
   "source": [
    "# Loop for one episode of experience (one day as set in max_episode_length)\n",
    "done = False\n",
    "obs, _ = env.reset()\n",
    "while not done:\n",
    "  action, _ = model.predict(obs, deterministic=True)\n",
    "  obs,reward,terminated,truncated,info = env.step(action)\n",
    "  done = (terminated or truncated)\n",
    "\n",
    "# Obtain KPIs for evaluation\n",
    "env.get_kpis()"
   ]
  },
  {
   "cell_type": "code",
   "execution_count": 33,
   "metadata": {},
   "outputs": [],
   "source": [
    "env.stop()"
   ]
  }
 ],
 "metadata": {
  "kernelspec": {
   "display_name": ".venv",
   "language": "python",
   "name": "python3"
  },
  "language_info": {
   "codemirror_mode": {
    "name": "ipython",
    "version": 3
   },
   "file_extension": ".py",
   "mimetype": "text/x-python",
   "name": "python",
   "nbconvert_exporter": "python",
   "pygments_lexer": "ipython3",
   "version": "3.10.16"
  }
 },
 "nbformat": 4,
 "nbformat_minor": 2
}
